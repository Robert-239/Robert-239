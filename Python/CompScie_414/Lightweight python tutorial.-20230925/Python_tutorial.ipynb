{
 "cells": [
  {
   "cell_type": "code",
   "execution_count": 1,
   "id": "285f926b",
   "metadata": {},
   "outputs": [],
   "source": [
    "from IPython.display import HTML"
   ]
  },
  {
   "cell_type": "markdown",
   "id": "80ac81e8",
   "metadata": {},
   "source": [
    "This is a very lightweight tutorial on Python. It is, of course, developed in iPython notebook. For a comprehensive tutorial on the use of iPython notebook see Nelis Willers's tutorial on [Sun learn](http://learn.sun.ac.za).\n",
    "\n",
    "Two tutorials on Python can be found [here](http://www.introtopython.org/) and [here](https://developers.google.com/edu/python/). There are many others available on the web.\n",
    "\n",
    "You are well-advised to read through Nelis's iPython tutorial. You will be required to submit your projects as iPython notebooks. Fortunately it is very intuitive and you should not have any problems to get going.\n",
    "\n",
    "The one thing you should note is that the notebook operates in two modes that are relevant to us. The cells above and below this one are code cells. If you run them the pyhton code is executed.\n",
    "\n",
    "This cell operates in markdown mode. This is where you enter text. In this mode one can do nifty things, like entering maths using LaTeX, e.g. $$ I = \\int_0^1 e^{-x^2} dx. $$ Unfortunately it does not understand all LaTeX commands but Nelis Willers is working on an extension for LaTeX. You should find this in the resources directory.\n",
    "\n",
    "If you run a markdown cell the text is rendered for display in an attractive way. Read the Willers tutorial!"
   ]
  },
  {
   "cell_type": "code",
   "execution_count": 2,
   "id": "d2d5fc65",
   "metadata": {},
   "outputs": [
    {
     "name": "stderr",
     "output_type": "stream",
     "text": [
      "UsageError: unrecognized arguments: #This is the preferred way to display figures inline.\n"
     ]
    }
   ],
   "source": [
    "%matplotlib inline #This is the preferred way to display figures inline."
   ]
  },
  {
   "cell_type": "markdown",
   "id": "61a99515",
   "metadata": {},
   "source": [
    "Next we import a few common libraries. Note the different possibilities. These are not the only ones."
   ]
  },
  {
   "cell_type": "code",
   "execution_count": 6,
   "id": "ca87140f",
   "metadata": {},
   "outputs": [],
   "source": [
    "import numpy as np\n",
    "import scipy as sc\n",
    "from matplotlib import pylab as plt"
   ]
  },
  {
   "cell_type": "markdown",
   "id": "d105ad84",
   "metadata": {},
   "source": [
    "Let us write a sort program that plots $\\sin(x)$ against $x$."
   ]
  },
  {
   "cell_type": "code",
   "execution_count": 8,
   "id": "76f05c36",
   "metadata": {},
   "outputs": [
    {
     "data": {
      "image/png": "[encoded data removed]",
      "text/plain": [
       "<Figure size 432x288 with 1 Axes>"
      ]
     },
     "metadata": {
      "needs_background": "light"
     },
     "output_type": "display_data"
    }
   ],
   "source": [
    "x = np.linspace(0.,2*np.pi,100)\n",
    "y = np.sin(x)\n",
    "plt.plot(x,y)\n",
    "plt.show()"
   ]
  },
  {
   "cell_type": "markdown",
   "id": "cb8e733f",
   "metadata": {},
   "source": [
    "Note the following Python eccentricities. Note that integer division is being phased out, and from Python 3.x, 1/2 will give you 0.5.\n"
   ]
  },
  {
   "cell_type": "code",
   "execution_count": 11,
   "id": "b99e5504",
   "metadata": {},
   "outputs": [
    {
     "name": "stdout",
     "output_type": "stream",
     "text": [
      "0.5\n",
      "0.5\n"
     ]
    }
   ],
   "source": [
    "print(1/2)\n",
    "print(1./2)"
   ]
  },
  {
   "cell_type": "markdown",
   "id": "c36eb133",
   "metadata": {},
   "source": [
    "Indentation. Code blocks are indicated by indentation. You can use tabs, but that is not encouraged since the tab character may be intepreted differently acros platforms. Instead use spaces, 4 spaces per indentation. Look at the following examples:"
   ]
  },
  {
   "cell_type": "code",
   "execution_count": 13,
   "id": "886e382e",
   "metadata": {},
   "outputs": [
    {
     "name": "stdout",
     "output_type": "stream",
     "text": [
      "1\n",
      "2\n",
      "3\n",
      "4\n",
      "5\n",
      "6\n",
      "7\n",
      "8\n",
      "9\n",
      "10\n"
     ]
    }
   ],
   "source": [
    "x = 1\n",
    "while x<=10: \n",
    "    print(x)\n",
    "    x += 1"
   ]
  },
  {
   "cell_type": "markdown",
   "id": "0d8abebd",
   "metadata": {},
   "source": [
    "Did you notice the nifty, x += 1, statement above? It is the same as x = x + 1, saving you a few keystrokes.\n",
    "Another nifty feature is available if you want to swap the values of two variables. Also note that you can assign values to two variables at the same time."
   ]
  },
  {
   "cell_type": "code",
   "execution_count": 16,
   "id": "2f7ecbb7",
   "metadata": {},
   "outputs": [
    {
     "name": "stdout",
     "output_type": "stream",
     "text": [
      "1 45\n",
      "45 1\n"
     ]
    }
   ],
   "source": [
    "x, y = 1, 45\n",
    "print(x,y)\n",
    "x,y = y,x\n",
    "print(x,y)"
   ]
  },
  {
   "cell_type": "markdown",
   "id": "17a85eb5",
   "metadata": {},
   "source": [
    "Another common iterator:"
   ]
  },
  {
   "cell_type": "code",
   "execution_count": 17,
   "id": "76c30afe",
   "metadata": {},
   "outputs": [
    {
     "name": "stdout",
     "output_type": "stream",
     "text": [
      "0\n",
      "1\n",
      "2\n",
      "3\n",
      "4\n",
      "5\n",
      "6\n",
      "7\n",
      "8\n",
      "9\n"
     ]
    }
   ],
   "source": [
    "for x in range(10):\n",
    "    print(x)"
   ]
  },
  {
   "cell_type": "markdown",
   "id": "733ce798",
   "metadata": {},
   "source": [
    "This is how we define a function"
   ]
  },
  {
   "cell_type": "code",
   "execution_count": 19,
   "id": "04f0dbf5",
   "metadata": {},
   "outputs": [
    {
     "data": {
      "text/plain": [
       "[<matplotlib.lines.Line2D at 0x7f6228bd3310>]"
      ]
     },
     "execution_count": 19,
     "metadata": {},
     "output_type": "execute_result"
    },
    {
     "data": {
      "image/png": "[encoded data removed]",
      "text/plain": [
       "<Figure size 432x288 with 1 Axes>"
      ]
     },
     "metadata": {
      "needs_background": "light"
     },
     "output_type": "display_data"
    }
   ],
   "source": [
    "def f(x):\n",
    "    return x**2\n",
    "\n",
    "x = np.array([1.,2.,3.,4.])\n",
    "y = f(x)\n",
    "plt.plot(x,y)"
   ]
  },
  {
   "cell_type": "markdown",
   "id": "4c0d2f78",
   "metadata": {},
   "source": [
    "Study the following example carefully. It illustrates a number of concepts, including recursion.\n",
    "\n",
    "One should be careful with recursion to make sure that it terminates. But the result is clean code."
   ]
  },
  {
   "cell_type": "code",
   "execution_count": 20,
   "id": "a354761d",
   "metadata": {},
   "outputs": [
    {
     "name": "stdout",
     "output_type": "stream",
     "text": [
      "1\n",
      "120\n"
     ]
    }
   ],
   "source": [
    "def factorial(n):\n",
    "    if n==1:\n",
    "        return 1\n",
    "    else:\n",
    "        return n*factorial(n-1)\n",
    "    \n",
    "print(factorial(1))\n",
    "print(factorial(5))"
   ]
  },
  {
   "cell_type": "markdown",
   "id": "bdc72495",
   "metadata": {},
   "source": [
    "Python has very useful data structures. We give examples of the tuple, list, and dictionary. Another unusual but frequently useful data structure is the set, not discussed here.\n",
    "\n",
    "The simplest, and the one you can't do much with, is the tuple. You can access its entries, but you can't change them. You will most often encounter them as the return of a function call. Earlier we defined a numpy array which we called x. Let us try the following:"
   ]
  },
  {
   "cell_type": "code",
   "execution_count": 21,
   "id": "87876d85",
   "metadata": {},
   "outputs": [
    {
     "data": {
      "text/plain": [
       "(4,)"
      ]
     },
     "execution_count": 21,
     "metadata": {},
     "output_type": "execute_result"
    }
   ],
   "source": [
    "x.shape"
   ]
  },
  {
   "cell_type": "markdown",
   "id": "26697c5b",
   "metadata": {},
   "source": [
    "The return is a tuple. It tells us that x is one-dimensional, and has 4 entries. Now try:"
   ]
  },
  {
   "cell_type": "code",
   "execution_count": 30,
   "id": "9a0ba259",
   "metadata": {},
   "outputs": [
    {
     "name": "stdout",
     "output_type": "stream",
     "text": [
      "(4,)\n",
      "4\n",
      "<class 'tuple'> <class 'tuple'>\n"
     ]
    }
   ],
   "source": [
    "m = x.shape\n",
    "print(m)\n",
    "print(m[0])\n",
    "n = (4,)\n",
    "print(type(m), type(n))"
   ]
  },
  {
   "cell_type": "markdown",
   "id": "8de0ea3f",
   "metadata": {},
   "source": [
    "Do you see the difference between m and m[0]? \n",
    "Note: Labeling in Python starts at 0\n",
    "Note: Remember the comma if you want to define a tuple with only one entry!"
   ]
  },
  {
   "cell_type": "markdown",
   "id": "cc38b9d0",
   "metadata": {},
   "source": [
    "The first really useful datastructure is the list:"
   ]
  },
  {
   "cell_type": "code",
   "execution_count": 32,
   "id": "784443d2",
   "metadata": {},
   "outputs": [],
   "source": [
    "numbers = [1.,2.,3.,4.,5.]"
   ]
  },
  {
   "cell_type": "markdown",
   "id": "f60e0722",
   "metadata": {},
   "source": [
    "A few useful list operations:\n",
    "\n",
    "The first  is uxpected but useful. It also means that a list behaves very different matrices (numpy arrays)."
   ]
  },
  {
   "cell_type": "code",
   "execution_count": 33,
   "id": "a5cd6e82",
   "metadata": {},
   "outputs": [
    {
     "name": "stdout",
     "output_type": "stream",
     "text": [
      "[1.0, 2.0, 3.0, 4.0, 5.0, 1.0, 2.0, 3.0, 4.0, 5.0]\n",
      "[1.0, 2.0, 3.0, 4.0, 5.0, 1.0, 2.0, 3.0, 4.0, 5.0]\n"
     ]
    }
   ],
   "source": [
    "print(numbers+numbers)\n",
    "print(2*numbers)\n"
   ]
  },
  {
   "cell_type": "markdown",
   "id": "d74655c0",
   "metadata": {},
   "source": [
    "Slicing:"
   ]
  },
  {
   "cell_type": "code",
   "execution_count": 35,
   "id": "d9a5f2cf",
   "metadata": {},
   "outputs": [
    {
     "name": "stdout",
     "output_type": "stream",
     "text": [
      "[1.0, 2.0]\n",
      "3.0\n"
     ]
    }
   ],
   "source": [
    "print(numbers[:2]) # print the first two entries\n",
    "print(numbers[2])"
   ]
  },
  {
   "cell_type": "code",
   "execution_count": 23,
   "id": "00e071e3",
   "metadata": {},
   "outputs": [
    {
     "name": "stdout",
     "output_type": "stream",
     "text": [
      "[3.0, 4.0]\n"
     ]
    }
   ],
   "source": [
    "print numbers[2:4] #Here you need to remember that indexing starts at 0."
   ]
  },
  {
   "cell_type": "code",
   "execution_count": 24,
   "id": "de6d8553",
   "metadata": {},
   "outputs": [
    {
     "name": "stdout",
     "output_type": "stream",
     "text": [
      "[4.0, 5.0]\n"
     ]
    }
   ],
   "source": [
    "print numbers[3:] # Print from the 3rd index until the end"
   ]
  },
  {
   "cell_type": "code",
   "execution_count": 26,
   "id": "f2b8ed46",
   "metadata": {},
   "outputs": [
    {
     "name": "stdout",
     "output_type": "stream",
     "text": [
      "5.0\n",
      "4.0\n"
     ]
    }
   ],
   "source": [
    "print numbers[-1] # Print the last entry\n",
    "print numbers[-2] # Print the second last entry"
   ]
  },
  {
   "cell_type": "code",
   "execution_count": 27,
   "id": "6722a696",
   "metadata": {},
   "outputs": [
    {
     "name": "stdout",
     "output_type": "stream",
     "text": [
      "5\n"
     ]
    }
   ],
   "source": [
    "print len(numbers)"
   ]
  },
  {
   "cell_type": "code",
   "execution_count": 32,
   "id": "dbcd5029",
   "metadata": {},
   "outputs": [
    {
     "name": "stdout",
     "output_type": "stream",
     "text": [
      "[1.0, 2.0, 3.0, 4.0, 5.0, 10]\n"
     ]
    }
   ],
   "source": [
    "numbers.append(10) # Add 10 to the end of the list\n",
    "print numbers"
   ]
  },
  {
   "cell_type": "markdown",
   "id": "370399ea",
   "metadata": {},
   "source": [
    "Let us calculate the first n Fibonacci numbers."
   ]
  },
  {
   "cell_type": "code",
   "execution_count": 39,
   "id": "37357761",
   "metadata": {},
   "outputs": [
    {
     "name": "stdout",
     "output_type": "stream",
     "text": [
      "[0, 1, 1, 2, 3, 5, 8, 13, 21, 34]\n",
      "[0, 1, 1, 2, 3, 5, 8, 13, 21, 34]\n"
     ]
    }
   ],
   "source": [
    "def fibonacci(n):\n",
    "    fib = [0,1]\n",
    "    for i in range(n-2):\n",
    "        fib.append(fib[-1]+fib[-2])\n",
    "    return fib\n",
    "print(fibonacci(10))\n",
    "\n",
    "def fibonacci(n):\n",
    "    nums = [0,1]\n",
    "    for i in range(n-2):\n",
    "        nums.append(nums[-1] + nums[-2])\n",
    "    return nums\n",
    "\n",
    "print(fibonacci(10))\n"
   ]
  },
  {
   "cell_type": "markdown",
   "id": "a2685ead",
   "metadata": {},
   "source": [
    "List comprehension is an easy, intuitive way of creating/operating on lists, as the following example illustrates:"
   ]
  },
  {
   "cell_type": "code",
   "execution_count": 40,
   "id": "34469b8f",
   "metadata": {},
   "outputs": [
    {
     "name": "stdout",
     "output_type": "stream",
     "text": [
      "[0, 1, 4, 9, 16, 25, 36, 49, 64, 81]\n"
     ]
    }
   ],
   "source": [
    "print([x**2 for x in range(10)])"
   ]
  },
  {
   "cell_type": "markdown",
   "id": "4a60ff50",
   "metadata": {},
   "source": [
    "One of Python's unique features is the built-in dictionary.\n",
    "\n",
    "Dictionaries consist of of a \"key\" and an associated \"value\". Let us try a simple example. We want to save the phone numbers and age of Bob, Ted and Alice. We create a dictionary with keys, Bob, Ted, and Alice. Each value asociated with a key is another dictionary with its own keys, phone, and age, with their respective values:"
   ]
  },
  {
   "cell_type": "code",
   "execution_count": 42,
   "id": "9d0fc072",
   "metadata": {},
   "outputs": [],
   "source": [
    "people = {'Bob' : {'age' : 40 ,'phone' : '021'}, 'Ted' : {'age' : 50,'phone' : '012'}, 'Alice' : {'age' : 29, 'phone' : '051'}}"
   ]
  },
  {
   "cell_type": "code",
   "execution_count": 43,
   "id": "ca505860",
   "metadata": {},
   "outputs": [
    {
     "data": {
      "text/plain": [
       "40"
      ]
     },
     "execution_count": 43,
     "metadata": {},
     "output_type": "execute_result"
    }
   ],
   "source": [
    "people['Bob']['age']"
   ]
  },
  {
   "cell_type": "code",
   "execution_count": 53,
   "id": "e14b302d",
   "metadata": {},
   "outputs": [
    {
     "data": {
      "text/plain": [
       "50"
      ]
     },
     "execution_count": 53,
     "metadata": {},
     "output_type": "execute_result"
    }
   ],
   "source": [
    "This keeps popping up, but I don't know what it meanpeople['Ted']['age']"
   ]
  },
  {
   "cell_type": "code",
   "execution_count": 57,
   "id": "ac8f1cba",
   "metadata": {},
   "outputs": [
    {
     "data": {
      "text/plain": [
       "['Bob', 'Ted', 'Alice']"
      ]
     },
     "execution_count": 57,
     "metadata": {},
     "output_type": "execute_result"
    }
   ],
   "source": [
    "people.keys()  # Retrieving the keys"
   ]
  },
  {
   "cell_type": "markdown",
   "id": "43d1d21e",
   "metadata": {},
   "source": [
    "Above we saw that lists in Python behave very unlike matrix arrays. The numpy library provides just about all the matrix operation you ever need. You will use Numpy a lot. Let us try a few simple examples."
   ]
  },
  {
   "cell_type": "code",
   "execution_count": 60,
   "id": "791cb198",
   "metadata": {},
   "outputs": [
    {
     "name": "stdout",
     "output_type": "stream",
     "text": [
      "[[ 1.  2.  3.]\n",
      " [ 1.  1.  1.]]\n"
     ]
    }
   ],
   "source": [
    "A = np.array([[1.,2.,3.],[1,1,1]]) \n",
    "print A"
   ]
  },
  {
   "cell_type": "code",
   "execution_count": 61,
   "id": "b7cabfe0",
   "metadata": {},
   "outputs": [
    {
     "name": "stdout",
     "output_type": "stream",
     "text": [
      "(2, 3)\n"
     ]
    }
   ],
   "source": [
    "print A.shape"
   ]
  },
  {
   "cell_type": "markdown",
   "id": "c13b2cca",
   "metadata": {},
   "source": [
    "It is a 2x3 matrix"
   ]
  },
  {
   "cell_type": "code",
   "execution_count": 62,
   "id": "f39eda68",
   "metadata": {},
   "outputs": [
    {
     "name": "stdout",
     "output_type": "stream",
     "text": [
      "[[ 1.  1.]\n",
      " [ 2.  1.]\n",
      " [ 3.  1.]]\n"
     ]
    }
   ],
   "source": [
    "print A.T  # Easy way to get the transpose"
   ]
  },
  {
   "cell_type": "markdown",
   "id": "881a7e0a",
   "metadata": {},
   "source": [
    "Matrix multiplication. First define a vector x, we want to multiply $Ax$. This is done using the Numpy function, \"dot\""
   ]
  },
  {
   "cell_type": "code",
   "execution_count": 64,
   "id": "f3339914",
   "metadata": {},
   "outputs": [
    {
     "name": "stdout",
     "output_type": "stream",
     "text": [
      "[ 6.  3.]\n"
     ]
    }
   ],
   "source": [
    "x = np.array([1,1,1])\n",
    "print np.dot(A,x)"
   ]
  },
  {
   "cell_type": "markdown",
   "id": "b0592df7",
   "metadata": {},
   "source": [
    "Another example"
   ]
  },
  {
   "cell_type": "code",
   "execution_count": 65,
   "id": "7e728d67",
   "metadata": {},
   "outputs": [
    {
     "data": {
      "text/plain": [
       "array([[  9.,  11.],\n",
       "       [  4.,   5.]])"
      ]
     },
     "execution_count": 65,
     "metadata": {},
     "output_type": "execute_result"
    }
   ],
   "source": [
    "B = np.array([[1,1],[1,2],[2,2]])\n",
    "np.dot(A,B)"
   ]
  },
  {
   "cell_type": "markdown",
   "id": "101feaca",
   "metadata": {},
   "source": [
    "There is one peculiarity that trips me up all the time. Look at the following example."
   ]
  },
  {
   "cell_type": "code",
   "execution_count": 66,
   "id": "0a69f2e5",
   "metadata": {},
   "outputs": [
    {
     "name": "stdout",
     "output_type": "stream",
     "text": [
      "(3,)\n"
     ]
    }
   ],
   "source": [
    "x = np.array([1,2,1])\n",
    "print x.shape\n"
   ]
  },
  {
   "cell_type": "markdown",
   "id": "ef6c622c",
   "metadata": {},
   "source": [
    "I guess this looks like a row vector. Let us try and take its transpose:"
   ]
  },
  {
   "cell_type": "code",
   "execution_count": 67,
   "id": "0b5728ea",
   "metadata": {},
   "outputs": [
    {
     "name": "stdout",
     "output_type": "stream",
     "text": [
      "[1 2 1]\n"
     ]
    }
   ],
   "source": [
    "print x.T"
   ]
  },
  {
   "cell_type": "markdown",
   "id": "508d1a37",
   "metadata": {},
   "source": [
    "Nothing happend. It is because x is not a matrix, more something akin to a list. It does not understand the notion of a \"row\" or a \"column\" vector.\n",
    "\n",
    "There are different ways of fixing it."
   ]
  },
  {
   "cell_type": "code",
   "execution_count": 71,
   "id": "1d715f9b",
   "metadata": {},
   "outputs": [
    {
     "name": "stdout",
     "output_type": "stream",
     "text": [
      "(1, 3)\n",
      "[[1 2 1]]\n"
     ]
    }
   ],
   "source": [
    "y = np.array([[1, 2, 1]])  # Define it to have two dimensions\n",
    "print y.shape\n",
    "print y"
   ]
  },
  {
   "cell_type": "markdown",
   "id": "0ba05096",
   "metadata": {},
   "source": [
    "$y$ is now a 1x3 matrix, i.e. a row vector"
   ]
  },
  {
   "cell_type": "code",
   "execution_count": 72,
   "id": "126460a6",
   "metadata": {},
   "outputs": [
    {
     "name": "stdout",
     "output_type": "stream",
     "text": [
      "[[1]\n",
      " [2]\n",
      " [1]]\n"
     ]
    }
   ],
   "source": [
    "print y.T  # This is a column vector"
   ]
  },
  {
   "cell_type": "code",
   "execution_count": 80,
   "id": "e4b6efbf",
   "metadata": {},
   "outputs": [
    {
     "name": "stdout",
     "output_type": "stream",
     "text": [
      "(1, 3)\n",
      "[[1 2 1]]\n"
     ]
    }
   ],
   "source": [
    "xx = np.array(x,ndmin=2)  # Redefine x\n",
    "print xx.shape\n",
    "print xx\n"
   ]
  },
  {
   "cell_type": "markdown",
   "id": "599b84ac",
   "metadata": {},
   "source": [
    "Or you can do it this way, the preferred way: (Note that the first way creates a column vector."
   ]
  },
  {
   "cell_type": "code",
   "execution_count": 82,
   "id": "e6d4ddd4",
   "metadata": {},
   "outputs": [
    {
     "name": "stdout",
     "output_type": "stream",
     "text": [
      "(3, 1)\n",
      "[[1]\n",
      " [2]\n",
      " [1]]\n"
     ]
    }
   ],
   "source": [
    "xx = x[:,np.newaxis]\n",
    "print xx.shape\n",
    "print xx\n"
   ]
  },
  {
   "cell_type": "markdown",
   "id": "e6a20ece",
   "metadata": {},
   "source": [
    "If you want a row vector: \n"
   ]
  },
  {
   "cell_type": "code",
   "execution_count": 84,
   "id": "506a2928",
   "metadata": {},
   "outputs": [
    {
     "name": "stdout",
     "output_type": "stream",
     "text": [
      "(1, 3)\n",
      "[[1 2 1]]\n"
     ]
    }
   ],
   "source": [
    "xx = x[np.newaxis,:]\n",
    "print xx.shape\n",
    "print xx"
   ]
  },
  {
   "cell_type": "code",
   "execution_count": null,
   "id": "eb9fd142",
   "metadata": {},
   "outputs": [],
   "source": []
  }
 ],
 "metadata": {
  "kernelspec": {
   "display_name": "Python 3",
   "language": "python",
   "name": "python3"
  },
  "language_info": {
   "codemirror_mode": {
    "name": "ipython",
    "version": 3
   },
   "file_extension": ".py",
   "mimetype": "text/x-python",
   "name": "python",
   "nbconvert_exporter": "python",
   "pygments_lexer": "ipython3",
   "version": "3.8.10"
  }
 },
 "nbformat": 4,
 "nbformat_minor": 5
}
