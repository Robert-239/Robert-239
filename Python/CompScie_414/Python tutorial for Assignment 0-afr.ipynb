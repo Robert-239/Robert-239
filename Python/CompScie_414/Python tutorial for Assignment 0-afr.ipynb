{
 "cells": [
  {
   "cell_type": "markdown",
   "id": "8d8762e8",
   "metadata": {},
   "source": [
    "# 'n Kort inleiding tot Python, NumPy en die Jupyter iPython-notaboek"
   ]
  },
  {
   "cell_type": "markdown",
   "id": "809bf73b",
   "metadata": {},
   "source": [
    "### Markdown.\n",
    "\n",
    "\"Markdown\" laat jou toe om eenvoudige, maklik verstaanbare teks te skryf wat dan na html omgeskakel word. Behalwe dat dit jou toelaat om pragtige webblaaie te skep, verstaan dit ook LaTeX. 'n Mens kan dus wiskunde skep soos,\n",
    "$$ I = \\int_0^1 e^{-x^2} dx. $$\n",
    "Ongelukkig verstaan dit nie alle LaTeX-opdragte nie, maar Nelis Willers het 'n uitbreiding ontwikkel wat jou toegang tot alle LaTeX-fasiliteite sal gee. Dit is die moeite werd om sy github-bladsy te besoek by https://github.com/NelisW?tab=repositories\n",
    "\n",
    "Jy kan meer leer oor markdown by https://help.github.com/articles/markdown-basics/."
   ]
  },
  {
   "cell_type": "markdown",
   "id": "334902b3",
   "metadata": {},
   "source": [
    "### Baie algemene oorsig\n",
    "Python gee self toegang tot basiese, ingeboude datastrukture. Dit bied ook basiese funksionaliteit soos 'while'-stellings, funksies en klasse (met besonder eenvoudige sintaks). Dit laat byvoorbeeld geen matriksbewerkings toe nie. Python verstaan eintlik nie die konsep van 'n matriks nie.\n",
    "Die werklike krag van Python spruit uit die groot aantal eksterne biblioteke wat beskikbaar is. Mens kry toegang tot die funksionaliteit wat in die biblioteke ingebou is deur die biblioteke in te voer. Vier belangrike biblioteke vir wetenskaplike doeleindes is:\n",
    "* **numpy** - 'n biblioteek wat voorsiening maak vir definisie en manipulasie van matrikse.\n",
    "* **scipy** - die wetenskaplike Python-biblioteek. Let daarop dat daar 'n groot oorvleueling met numpy is. As 'n reël: As dit in numpy beskikbaar is, gebruik die numpy-funksie. Die volledige numpy en scipy dokumentasie is by http://docs.scipy.org/doc/.\n",
    "* **matplotlib** - 'n plotbiblioteek met, soos die naam aandui, plotfunksies wat naboots wat in Matlab beskikbaar is. 'n Gebruikersgids is by http://matplotlib.org/1.5.0/users/index.html .\n",
    "* **pandas** - 'n data-analise-nutsmiddelstel. Meer inligting is by http://pandas.pydata.org/pandas-docs/stable/."
   ]
  },
  {
   "cell_type": "markdown",
   "id": "3f9d9e5b",
   "metadata": {},
   "source": [
    "### Ontwikkel jou eie kode\n",
    "\n",
    "Aangesien die notaboek 'n dokument is wat veronderstel is om leesbaar te wees, is dit nie die plek om groot hoeveelhede kode te plaas nie. Natuurlik sal jy uiteindelik meer komplekse kode ontwikkel en die manier om dit te doen, is om dit in 'n aparte lêer met uitbreiding `.py` te plaas. Hierdie lêer kan so kompleks wees as wat jy nodig het om te wees, d.w.s. dit kan enige hoeveelheid kode bevat, opgedeel in verskeie verskillende funksies, klasse, ens. Maar dit is natuurlik 'n goeie idee om jou kode in samehangende eenhede te organiseer (`.py ` lêers).\n",
    "\n",
    "Jy kry jou kode in die notaboek in die hande deur dit in te voer, presies soos ons die numpy-biblioteek hieronder invoer."
   ]
  },
  {
   "cell_type": "markdown",
   "id": "69d650c6",
   "metadata": {},
   "source": [
    "### So wat is iPython?\n",
    "\n",
    "Dit is basies 'n omgewing vir interaktiewe berekening wat van Python gebruik maar.  Hier moet mens regtig die naam van Fernando Perez noem, wat die visie gehad het en iets daaraan gedoen het (terwyl hy sy PhD-studies uitgestel het!). Die notaboek is meer onlangs ontwikkel, en was aanvanklik nou gekoppel aan iPython. Daar is toe besef dat die notaboekgedeelte werklik taal-agnosties is, en toe is 'n aparte projek onafhanklik van Python genaamd Jupyter gestig. iPython verskaf steeds 'n Python-kern vir Jupyter. Besoek asseblief die iPython-webblad by http://ipython.org/ waar jy allerhande nuttige materiaal sal vind, insluitend verskeie tutoriale."
   ]
  },
  {
   "cell_type": "markdown",
   "id": "7f7b5fdd",
   "metadata": {},
   "source": [
    "### Toweropdragte\n",
    "Daar is 'n aantal toweropdragte beskikbaar, wat basies die notaboek vertel hoe om op te tree.\n",
    "Die een wat ons die meeste gebruik, sê vir die notaboek dat alle figure deel van die notaboek moet wees, dit wil sê hulle moet nie in aparte vensters oopmaak nie:"
   ]
  },
  {
   "cell_type": "code",
   "execution_count": null,
   "id": "c2a29a32",
   "metadata": {},
   "outputs": [],
   "source": [
    "%matplotlib inline"
   ]
  },
  {
   "cell_type": "markdown",
   "id": "0b8fc749",
   "metadata": {},
   "source": [
    "### Voer biblioteke of lêers in.\n",
    "\n",
    "Hier voer ons die biblioteke in wat wetenskaplikes heeltyd gebruik:\n",
    "\n"
   ]
  },
  {
   "cell_type": "code",
   "execution_count": null,
   "id": "71af3e02",
   "metadata": {},
   "outputs": [],
   "source": [
    "import numpy as np\n",
    "import scipy as sc\n",
    "from matplotlib import pylab as plt"
   ]
  },
  {
   "cell_type": "code",
   "execution_count": null,
   "id": "fe9bb41e",
   "metadata": {},
   "outputs": [],
   "source": [
    "np.array?"
   ]
  },
  {
   "cell_type": "markdown",
   "id": "f69d42a3",
   "metadata": {},
   "source": [
    "### Binne die biblioteke\n",
    "\n",
    "Hoe vind 'n mens uit wat 'n mens met hierdie biblioteke kan doen? Eerstens is daar natuurlik die dokumentasie, met die skakels hierbo gegee. Maar iPython bied 'n gerieflike interaktiewe manier.\n",
    "\n",
    "Om te sien wat binne die numpy-biblioteek is, tik (in 'n kodesel), `np.<tab>`. Jy behoort 'n (baie lang) lys te sien wat al die velde en funksies van die biblioteek bevat.\n",
    "\n",
    "Veronderstel nou jy stel belang om meer oor `np.array` te leer. Tik `np.array?` in 'n kodesel en voer die sel uit. Die dokumentasie van die funksie behoort in jou blaaier te verskyn.\n",
    "\n",
    "Terloops, dit is nuttig om die kortpaaie te leer vir die instruksies wat jy die meeste uitvoer. Alle kortpaaie is beskikbaar onder die `help`-knoppie."
   ]
  },
  {
   "cell_type": "markdown",
   "id": "dd9ceb77",
   "metadata": {},
   "source": [
    "### Eerste voorbeeld.\n",
    "\n",
    "Kom ons gaan reguit na 'n eenvoudige voorbeeld."
   ]
  },
  {
   "cell_type": "code",
   "execution_count": null,
   "id": "92cc46d2",
   "metadata": {},
   "outputs": [],
   "source": [
    "x = np.linspace(0.,2*np.pi,100)\n",
    "y = np.sin(x)\n",
    "plt.plot(x,y)\n",
    "plt.show()"
   ]
  },
  {
   "cell_type": "markdown",
   "id": "f6ff5ca6",
   "metadata": {},
   "source": [
    "### Alles is 'n voorwerp\n",
    "\n",
    "Python ondersteun die objek-georiënteerde paradigma, en rofweg gesproke kan alles as 'n objek beskou word, insluitend die twee 'veranderlikes' $x$ en $y$ wat ons hierbo gedefinieer het. Voorwerpe het metodes (wat hulle gedra soos funksies) en velde (waardes) wat daarmee geassosieer word. Dit beteken basies dat daar funksionaliteit geassosieer word met 'n voorwerp wat ons in staat stel om die voorwerp te manipuleer (soos om 'n skikking te transponeer), of inligting oor die voorwerp te verkry.\n",
    "\n",
    "Om uit te vind watter kenmerke geassosieer word met $y$, byvoorbeeld, tik `y.<tab>` in 'n kodesel. Jy behoort 'n redelike lang lys velde en funksies te sien. Kom ons probeer twee van hulle:"
   ]
  },
  {
   "cell_type": "code",
   "execution_count": null,
   "id": "9696408b",
   "metadata": {},
   "outputs": [],
   "source": [
    "y."
   ]
  },
  {
   "cell_type": "code",
   "execution_count": null,
   "id": "384edee5",
   "metadata": {},
   "outputs": [],
   "source": [
    "y.shape"
   ]
  },
  {
   "cell_type": "code",
   "execution_count": null,
   "id": "e59ef590",
   "metadata": {},
   "outputs": [],
   "source": [
    "y.dot(y)"
   ]
  },
  {
   "cell_type": "markdown",
   "id": "efa72652",
   "metadata": {},
   "source": [
    "Sien jy die verskil tussen die twee. Die eerste, `y.shape`, gee 'n waarde terug wat met die objek geassosieer word (nuttige inligting oor die objek); in hierdie geval sê dit vir ons dat dit 'n $100$ skikking is, dit wil sê 'n kolomvektor.\n",
    "\n",
    "Die tweede `y.dot(y)` is 'n metode wat op $y$ werk. Die metode neem 'n argument en tree in daardie sin soos 'n funksie op. Die verskil tussen 'n 'metode' en 'n 'funksie' is dat 'n 'metode' 'n argument het, gewoonlik genoem 'self', wat dit aan die voorwerp bind. 'n Funksie is nie aan 'n objek gebind nie en het nie die spesiale `self`-parameter nie. In hierdie voorbeeld bereken die `dot`-metode die puntproduk tussen $y$ en $y$ (d.w.s. $y$ met homself)."
   ]
  },
  {
   "cell_type": "markdown",
   "id": "b03061dc",
   "metadata": {},
   "source": [
    "** Terwyl Python 2.7 en verskeie ander tale afsonderlike reëls gebruik vir heelgetaldeling (d.w.s. 1/2 = 0) vs. swaaipuntdeling, is dit nie die geval in Python 3.5 nie:**"
   ]
  },
  {
   "cell_type": "code",
   "execution_count": null,
   "id": "9a449d52",
   "metadata": {},
   "outputs": [],
   "source": [
    "print (1/2)\n",
    "print (1./2)"
   ]
  },
  {
   "cell_type": "markdown",
   "id": "a5c516bc",
   "metadata": {},
   "source": [
    "### Inkeping.\n",
    "\n",
    "Inkeping is een van die meer ongewone kenmerke van Python. As jy soos ek is, sal jy leer om daarvan te hou! Terloops, Python-programmeringstandaarde beveel aan dat jy die inkeping met spasies doen, en nie die `<tab>`-sleutel nie - sien https://stackoverflow.com/questions/119562/tabs-versus-spaces-in-python-programming vir meer hieroor. Alhoewel die aantal spasies om te gebruik nie voorgeskryf is nie, is 4 spasies per vlak van inkeping redelik standaard.\n",
    "\n",
    "Om meer spesifiek te wees: Kodeblokke word deur inkeping aangedui. Daar is geen opdragte soos 'begin' of 'end' nie. Wat gebeur is dat die dubbelpunt aandui dat 'n kodeblok volg. Baie redakteurs, en Jupyter in die besonder, verstaan dit en sal outomaties die inkeping vir jou doen. Al wat jy hoef te doen is om dit te sê wanneer om te stop.\n",
    "\n",
    "Kom ons kyk na die volgende voorbeelde."
   ]
  },
  {
   "cell_type": "code",
   "execution_count": null,
   "id": "33111a7d",
   "metadata": {},
   "outputs": [],
   "source": [
    "x = 0\n",
    "while x<10:\n",
    "    print (x)\n",
    "    x += 1"
   ]
  },
  {
   "cell_type": "code",
   "execution_count": null,
   "id": "d7aad147",
   "metadata": {
    "lines_to_next_cell": 1
   },
   "outputs": [],
   "source": [
    "for x in range(10):\n",
    "    print (x)"
   ]
  },
  {
   "cell_type": "markdown",
   "id": "fdee133c",
   "metadata": {},
   "source": [
    "### Funksies\n",
    "\n",
    "Dit is hoe ons 'n funksie definieer. Let daarop dat ons 'n verstekwaarde aan $x$ toegeken het. Dit is nie nodig nie, maar nuttig. As jy nie 'n waarde spesifiseer nie, word die verstek gebruik."
   ]
  },
  {
   "cell_type": "code",
   "execution_count": null,
   "id": "d7a7d174",
   "metadata": {},
   "outputs": [],
   "source": [
    "def f(x=1):\n",
    "    y = x**2\n",
    "    return y\n",
    "\n",
    "x = np.asarray(range(20))\n",
    "y = f(x)\n",
    "plt.plot(x,y)\n",
    "plt.show()"
   ]
  },
  {
   "cell_type": "markdown",
   "id": "00c11c90",
   "metadata": {},
   "source": [
    "### Hoe om die verstekargumentwaarde te gebruik"
   ]
  },
  {
   "cell_type": "code",
   "execution_count": null,
   "id": "205f08b0",
   "metadata": {},
   "outputs": [],
   "source": [
    "print (f())"
   ]
  },
  {
   "cell_type": "markdown",
   "id": "fe350083",
   "metadata": {},
   "source": [
    "### Datastrukture\n",
    "Python het baie nuttige datastrukture.\n",
    "\n",
    "Die eenvoudigste datastruktuur is die tupel. Jy het toegang tot sy inskrywings, maar jy kan hulle nie verander nie. Jy sal hulle meestal teëkom as terugkeerwaardes van 'n funksie-roep. Ons het vroeër 'n numpy-skikking gedefinieer wat ons x genoem het. Kom ons probeer die volgende:"
   ]
  },
  {
   "cell_type": "code",
   "execution_count": null,
   "id": "e68647ed",
   "metadata": {},
   "outputs": [],
   "source": [
    "x.shape     "
   ]
  },
  {
   "cell_type": "markdown",
   "id": "1bfe260a",
   "metadata": {},
   "source": [
    "### Tupels\n",
    "Die teruggekeerde waarde vir die vorm van x is 'n tupel. Dit vertel ons dat x een-dimensioneel is en 20 inskrywings het. Probeer nou:"
   ]
  },
  {
   "cell_type": "code",
   "execution_count": null,
   "id": "86c6c80b",
   "metadata": {},
   "outputs": [],
   "source": [
    "m = x.shape\n",
    "print (m)\n",
    "print (m[0])"
   ]
  },
  {
   "cell_type": "markdown",
   "id": "308737be",
   "metadata": {},
   "source": [
    "Sien jy die verskil tussen m en m[0]?\n",
    "### Let wel:\n",
    "* **Indeksering in Python begin by 0.**\n",
    "* Onthou die komma as jy 'n tupel met net een inskrywing wil definieer!"
   ]
  },
  {
   "cell_type": "markdown",
   "id": "9657754e",
   "metadata": {},
   "source": [
    "### Lyste\n",
    "Die volgende nuttige datastruktuur is die lys:"
   ]
  },
  {
   "cell_type": "code",
   "execution_count": null,
   "id": "1f572d59",
   "metadata": {},
   "outputs": [],
   "source": [
    "numbers = [1.,2.,3.,4.,5.]"
   ]
  },
  {
   "cell_type": "markdown",
   "id": "88cee19c",
   "metadata": {},
   "source": [
    "### 'n Klein ompad\n",
    "\n",
    "Skakel om na 'n numpy skikking"
   ]
  },
  {
   "cell_type": "code",
   "execution_count": null,
   "id": "580107c7",
   "metadata": {},
   "outputs": [],
   "source": [
    "numbers = np.asarray(numbers)\n",
    "print (numbers.dtype)"
   ]
  },
  {
   "cell_type": "markdown",
   "id": "01116010",
   "metadata": {},
   "source": [
    "Skakel om na heelgetalle:"
   ]
  },
  {
   "cell_type": "code",
   "execution_count": null,
   "id": "9b35636e",
   "metadata": {},
   "outputs": [],
   "source": [
    "numbers = np.asarray(numbers, dtype=int)\n",
    "print (numbers.dtype)"
   ]
  },
  {
   "cell_type": "markdown",
   "id": "098ef3d2",
   "metadata": {},
   "source": [
    "### Terug na 'n lys\n",
    "Herdefinieer `numbers` eers as 'n lys"
   ]
  },
  {
   "cell_type": "code",
   "execution_count": null,
   "id": "e8cc6f6f",
   "metadata": {},
   "outputs": [],
   "source": [
    "numbers = [1.,2.,3.,4.,5.]"
   ]
  },
  {
   "cell_type": "markdown",
   "id": "b0c0b1f4",
   "metadata": {},
   "source": [
    "\n",
    "### 'n Paar nuttige lysbewerkings:\n",
    "\n",
    "Die eerste is onverwags maar nuttig. Dit beteken ook dat 'n lys baie anders optree as matrikse (numpy skikkings)."
   ]
  },
  {
   "cell_type": "code",
   "execution_count": null,
   "id": "f9bddad5",
   "metadata": {
    "lines_to_next_cell": 2
   },
   "outputs": [],
   "source": [
    "print (numbers+numbers)\n",
    "print (2*numbers)"
   ]
  },
  {
   "cell_type": "markdown",
   "id": "76ad2769",
   "metadata": {},
   "source": [
    "### Deursny:"
   ]
  },
  {
   "cell_type": "code",
   "execution_count": null,
   "id": "06ef38b6",
   "metadata": {},
   "outputs": [],
   "source": [
    "print (numbers[:2]) # print the first two entries."
   ]
  },
  {
   "cell_type": "code",
   "execution_count": null,
   "id": "ed379d37",
   "metadata": {},
   "outputs": [],
   "source": [
    "print (numbers[2:4]) #Here you need to remember that indexing starts at 0."
   ]
  },
  {
   "cell_type": "code",
   "execution_count": null,
   "id": "c6bee5af",
   "metadata": {},
   "outputs": [],
   "source": [
    "print (numbers[3:]) # Print from the 3rd index until the end."
   ]
  },
  {
   "cell_type": "code",
   "execution_count": null,
   "id": "9112f598",
   "metadata": {},
   "outputs": [],
   "source": [
    "print (numbers[-1]) # Print the last entry.\n",
    "print (numbers[-2]) # Print the second last entry."
   ]
  },
  {
   "cell_type": "code",
   "execution_count": null,
   "id": "db0156e8",
   "metadata": {},
   "outputs": [],
   "source": [
    "print (len(numbers))"
   ]
  },
  {
   "cell_type": "code",
   "execution_count": null,
   "id": "c3e2777a",
   "metadata": {},
   "outputs": [],
   "source": [
    "numbers.append(10.) # Add 10 to the end of the list.\n",
    "print (numbers)"
   ]
  },
  {
   "cell_type": "markdown",
   "id": "c5a5fd6e",
   "metadata": {},
   "source": [
    "### Woordeboeke\n",
    "Een van Python se handige kenmerke is die ingeboude woordeboek.\n",
    "\n",
    "Woordeboeke bestaan uit 'n 'sleutel' en 'n geassosieerde 'waarde'. Kom ons probeer 'n eenvoudige voorbeeld. Ons wil die telefoonnommers en ouderdom van Bob, Ted en Alice stoor. Ons skep 'n woordeboek met sleutels, Bob, Ted en Alice. Elke waarde wat met 'n sleutel geassosieer word, is 'n ander woordeboek met sy eie sleutels, telefoon en ouderdom, met hul onderskeie waardes:"
   ]
  },
  {
   "cell_type": "code",
   "execution_count": null,
   "id": "9801a7b9",
   "metadata": {},
   "outputs": [],
   "source": [
    "people ={'Bob' : {'age' : 40 ,'phone' : '021'}, 'Ted' : {'age' : 50,'phone' : '012'}, 'Alice' : {'age' : 29, 'phone' : '051'}}"
   ]
  },
  {
   "cell_type": "code",
   "execution_count": null,
   "id": "03478e9c",
   "metadata": {},
   "outputs": [],
   "source": [
    "people['Bob']"
   ]
  },
  {
   "cell_type": "code",
   "execution_count": null,
   "id": "d4f820c1",
   "metadata": {},
   "outputs": [],
   "source": [
    "people['Ted']['age']"
   ]
  },
  {
   "cell_type": "code",
   "execution_count": null,
   "id": "48a87a0b",
   "metadata": {},
   "outputs": [],
   "source": [
    "people.keys()  # Retrieving the keys"
   ]
  },
  {
   "cell_type": "code",
   "execution_count": null,
   "id": "42c66883",
   "metadata": {},
   "outputs": [],
   "source": [
    "people['Ben'] = {'age': 100,'phone':'082'}   # Adding a new entry into the dictionary"
   ]
  },
  {
   "cell_type": "code",
   "execution_count": null,
   "id": "b4f65ab2",
   "metadata": {},
   "outputs": [],
   "source": [
    "people.keys()"
   ]
  },
  {
   "cell_type": "markdown",
   "id": "f7494112",
   "metadata": {},
   "source": [
    "### Let wel\n",
    "Die volgorde van die inskrywings in 'n woordeboek is arbitrer."
   ]
  },
  {
   "cell_type": "code",
   "execution_count": null,
   "id": "4a00dbc9",
   "metadata": {},
   "outputs": [],
   "source": [
    "people['Ben']"
   ]
  },
  {
   "cell_type": "markdown",
   "id": "06ba2826",
   "metadata": {},
   "source": [
    "### Numpy \n",
    "Hierbo het ons gesien dat lyste in Python baie anders as matriksskikkings optree. Die numpy-biblioteek bied omtrent al die matriksbewerkings wat jy ooit sal nodig hê. Jy sal numpy baie gebruik. Kom ons probeer 'n paar eenvoudige voorbeelde."
   ]
  },
  {
   "cell_type": "code",
   "execution_count": null,
   "id": "9fc9d144",
   "metadata": {},
   "outputs": [],
   "source": [
    "A = np.array([[1.,2.,3.],[1,1,1]]) \n",
    "print (A)"
   ]
  },
  {
   "cell_type": "code",
   "execution_count": null,
   "id": "9e8d1f45",
   "metadata": {},
   "outputs": [],
   "source": [
    "print (A.shape)"
   ]
  },
  {
   "cell_type": "markdown",
   "id": "ba701ef0",
   "metadata": {},
   "source": [
    "Dit is 'n 2x3 matriks.\n",
    "\n",
    "### Transponent"
   ]
  },
  {
   "cell_type": "code",
   "execution_count": null,
   "id": "fe051359",
   "metadata": {},
   "outputs": [],
   "source": [
    "print (A.T)  # Easy way to get the transpose"
   ]
  },
  {
   "cell_type": "markdown",
   "id": "2a530220",
   "metadata": {},
   "source": [
    "### Matrix vermenigvuldiging\n",
    "Definieer eers 'n vektor $x$, ons wil die produk $Ax$ bereken. Dit word gedoen met behulp van die Numpy-funksie, `dot`.\n",
    "### Let wel:\n",
    "* Matriksvermenigvuldiging $AB$ bestaan uit die neem van die puntprodukte tussen die rye van $A$ en die kolomme van $B$."
   ]
  },
  {
   "cell_type": "code",
   "execution_count": null,
   "id": "8d7efb5b",
   "metadata": {},
   "outputs": [],
   "source": [
    "x = np.array([[1],[1],[1]])\n",
    "A.dot(x)"
   ]
  },
  {
   "cell_type": "markdown",
   "id": "82601262",
   "metadata": {},
   "source": [
    "### Nog 'n voorbeeld"
   ]
  },
  {
   "cell_type": "code",
   "execution_count": null,
   "id": "465c0be0",
   "metadata": {},
   "outputs": [],
   "source": [
    "B = np.array([[1,1],[1,2],[2,2]])\n",
    "A.dot(B)"
   ]
  },
  {
   "cell_type": "markdown",
   "id": "3e54cb4c",
   "metadata": {},
   "source": [
    "### Wees bewus:\n",
    "Daar is een eienaardigheid wat mense die hele tyd laat struikel. Kyk na die volgende voorbeeld."
   ]
  },
  {
   "cell_type": "code",
   "execution_count": null,
   "id": "78408bfc",
   "metadata": {
    "lines_to_next_cell": 2
   },
   "outputs": [],
   "source": [
    "x = np.array([1,2,1])\n",
    "print (x.shape)"
   ]
  },
  {
   "cell_type": "code",
   "execution_count": null,
   "id": "ada3bcd4",
   "metadata": {},
   "outputs": [],
   "source": [
    "print (x)"
   ]
  },
  {
   "cell_type": "markdown",
   "id": "54597bca",
   "metadata": {},
   "source": [
    "Aanvanklik kan dit soos 'n ryvektor lyk. Kom ons probeer die transponent daarvan neem:"
   ]
  },
  {
   "cell_type": "code",
   "execution_count": null,
   "id": "cba165af",
   "metadata": {},
   "outputs": [],
   "source": [
    "print (x.T)"
   ]
  },
  {
   "cell_type": "markdown",
   "id": "63493186",
   "metadata": {},
   "source": [
    "**Niks het gebeur nie!** \n",
    "Dit is omdat $x$ nie 'n (2-dimensionele) matriks is nie, maar 'n 1-dimensionele skikking wat meer soortgelyk is aan 'n lys. So 'n struktuur het nie 'n idee van 'n \"ry\" of 'n \"kolom\" vektor nie, so transposisie werk nie soos verwag word nie.\n",
    "\n",
    "**Daar is verskillende maniere om dit reg te maak.**"
   ]
  },
  {
   "cell_type": "code",
   "execution_count": null,
   "id": "fec0610e",
   "metadata": {},
   "outputs": [],
   "source": [
    "y = np.array([[1, 2, 1]])  # Define it to have two dimensions\n",
    "print (y.shape)\n",
    "print (y)"
   ]
  },
  {
   "cell_type": "markdown",
   "id": "8239ab26",
   "metadata": {},
   "source": [
    "$y$ is nou 'n 1x3 matriks, d.i. 'n ryvektor."
   ]
  },
  {
   "cell_type": "code",
   "execution_count": null,
   "id": "d85aebaa",
   "metadata": {},
   "outputs": [],
   "source": [
    "print (y.T.shape)  # This is a column vector."
   ]
  },
  {
   "cell_type": "markdown",
   "id": "56a0d8b1",
   "metadata": {},
   "source": [
    "**Voeg 'n as by**\n",
    "\n",
    "Die volgende is die voorkeur manier om 'n as by te voeg.\n",
    "\n",
    "Let daarop dat 'n mens dit op twee verskillende maniere kan byvoeg."
   ]
  },
  {
   "cell_type": "code",
   "execution_count": null,
   "id": "9121058e",
   "metadata": {},
   "outputs": [],
   "source": [
    "y = x[:,np.newaxis]\n",
    "print ('y = ',y)\n",
    "\n",
    "z = x[np.newaxis,:]\n",
    "print ('z = ',z)"
   ]
  },
  {
   "cell_type": "markdown",
   "id": "b12a6b3d",
   "metadata": {},
   "source": [
    "### Uitsaai\n",
    "Hierdie is 'n gevorderde onderwerp, maar jy behoort bewus te wees dat numpy probeer verstaan wat jy wil doen (op 'n goed gedefinieerde manier), al is jy nie streng wiskundig korrek nie. 'n Goeie inleiding tot uitsaai is by http://docs.scipy.org/doc/numpy-1.10.1/user/basics.broadcasting.html\n",
    "\n",
    "Aangesien dit so 'n nuttige stuk gereedskap is, sal ons 'n bietjie tyd daaraan spandeer, hoewel dit waarskynlik nie iets is wat 'n mens normaalweg in 'n eerste inleiding sal insluit nie.\n",
    "\n",
    "**Let wel:**\n",
    "* Uitsaai laat 'n mens toe om baie bondige, onleesbare kode te skryf. Gebruik met sorg!\n",
    "\n",
    "**Voorbeeld:**\n",
    "\n",
    "Kom ons begin met 'n eenvoudige voorbeeld. Ons het vroeër 'n matriks $A$ gedefinieer:"
   ]
  },
  {
   "cell_type": "code",
   "execution_count": null,
   "id": "0a8284a6",
   "metadata": {},
   "outputs": [],
   "source": [
    "print (A)"
   ]
  },
  {
   "cell_type": "markdown",
   "id": "4e621ac8",
   "metadata": {},
   "source": [
    "Ons wil $1$ by al die elemente van $A$ voeg. Die korrekte (wiskundige) manier om dit te doen, is om 'n matriks by te voeg met alle elemente gelyk aan $1$ van dieselfde vorm as $A$:"
   ]
  },
  {
   "cell_type": "code",
   "execution_count": null,
   "id": "3f57e8cb",
   "metadata": {},
   "outputs": [],
   "source": [
    "print (A + np.ones(A.shape))"
   ]
  },
  {
   "cell_type": "markdown",
   "id": "d9b568d4",
   "metadata": {},
   "source": [
    "### Sukses!\n",
    "Daar is egter 'n baie makliker manier om dit te doen, soos jy dalk geraai het:"
   ]
  },
  {
   "cell_type": "code",
   "execution_count": null,
   "id": "53b6e648",
   "metadata": {},
   "outputs": [],
   "source": [
    "print (A+1)"
   ]
  },
  {
   "cell_type": "markdown",
   "id": "921d0bd9",
   "metadata": {},
   "source": [
    "Wiskundig maak $A+1$ geen sin nie, maar numpy verstaan ​​wat jy wil doen en saai die skalaar $1$ uit na 'n verskeidenheid van die korrekte afmetings sodat matriksoptelling gedefinieer word.\n",
    "\n",
    "**Oor die algemeen**\n",
    "\n",
    "Hoe werk uitsaai in die algemeen? Voordat ons hierdie vraag beantwoord, is dit nuttig om te onthou dat die $+$ en $*$ operateurs in numpy albei puntsgewyse bewerkings uitvoer. Dit beteken dat ons al die idees agter uitsaai kan illustreer deur $+$ te gebruik. Ter herinnering: Om matriksvermenigvuldiging te doen, gebruik mens die `dot` metode.\n",
    "\n",
    "Hoe werk uitsaai as 'n mens twee algemene multidimensionele skikkings wil byvoeg? Dit is maklik as hulle dieselfde afmetings het, maar vir uitsaai hoef hulle nie dieselfde afmetings of selfs dieselfde aantal afmetings te hê nie.\n",
    "\n",
    "Die reël vir uitsaai is die volgende:\n",
    "\n",
    "Mens begin aan die agterkant van die twee skikkings en vergelyk hul afmetings elementgewys. Die twee dimensies is versoenbaar, as\n",
    "\n",
    "1. Die twee afmetings is dieselfde\n",
    "2. Een van die twee afmetings is 1.\n",
    "\n",
    "'n Paar voorbeelde sal dit duidelik maak.\n",
    "\n",
    "**Voorbeeld 1**\n",
    "\n",
    "```\n",
    "A (2D-skikking): 4 x 1\n",
    "B (1D-skikking): 3\n",
    "Resultaat: 4 x 3 skikking\n",
    "```\n",
    "Aangesien $A$ 'n kolomvektor is, word sy kolom 3 keer herhaal, wat lei tot 'n $4\\times 3$ skikking met identiese kolomme. Dan word die 1D-skikking $B$ uitgebrei na 'n $4\\times 3$-skikking waar elke *ry* van die uitgebreide $B$ 'n kopie van die oorspronklike $B$ is.\n",
    "\n",
    "In werklikheid doen numpy nie regtig die uitbreiding eksplisiet nie; dit sou verkwistend wees. Maar dit is die idee.\n",
    "\n"
   ]
  },
  {
   "cell_type": "code",
   "execution_count": null,
   "id": "f9b3d140",
   "metadata": {},
   "outputs": [],
   "source": [
    "A = np.array([1,1,1,1])\n",
    "A = A[:,np.newaxis]\n",
    "B = np.array([1,2,3])\n",
    "print ('A:', A.shape)\n",
    "print ('B:', B.shape)\n",
    "print ('A+B:',(A+B).shape)\n",
    "print (A+B)"
   ]
  },
  {
   "cell_type": "markdown",
   "id": "fd2aa845",
   "metadata": {},
   "source": [
    "**Voorbeeld 2**\n",
    "\n",
    "```\n",
    "A (3D-skikking): 2 x 1 x 2\n",
    "B (2D-skikking): 3 x 1\n",
    "A+B (3D-skikking): 2 x 3 x 2\n",
    "```\n",
    "Wat in hierdie geval gebeur, is dat $B$ eerste uitgebrei word na 'n $3\\times 2$ skikking deur sy kolom te kopieer. Dan word dit uitgebrei na 'n $2\\times 3 \\times 2$ skikking deur die hele ding twee keer te kopieer. Dan word $A$ uitgebrei na 'n $2\\times 3 \\times 2$ skikking, deur homself 3 keer te kopieer."
   ]
  },
  {
   "cell_type": "code",
   "execution_count": null,
   "id": "dd84dfa9",
   "metadata": {},
   "outputs": [],
   "source": [
    "A = np.array([[1,2],[3,4]])\n",
    "A = A[:,np.newaxis,:]\n",
    "B = np.array([1,1,1])\n",
    "B = B[:,np.newaxis]\n",
    "print ('A:  ', A.shape)\n",
    "print ('B:     ', B.shape)\n",
    "print ('A+B:',(A+B).shape)\n",
    "print (A+B)"
   ]
  },
  {
   "cell_type": "markdown",
   "id": "f261910e",
   "metadata": {},
   "source": [
    "Kom ons doen die uitbreidings eksplisiet.\n",
    "\n",
    "$B$ eerste:"
   ]
  },
  {
   "cell_type": "code",
   "execution_count": null,
   "id": "7b5e245b",
   "metadata": {},
   "outputs": [],
   "source": [
    "# Brei eers uit na 'n 3x2-skikking\n",
    "Bexp = np.zeros((3,2))\n",
    "\n",
    "Bexp[:,0] = B[:,0]\n",
    "Bexp[:,1] = B[:,0]\n",
    "\n",
    "#Brei nou uit na 'n 2x3x2 skikking\n",
    "\n",
    "Bfinal = np.zeros((2,3,2))\n",
    "Bfinal[0,:,:] = Bexp\n",
    "Bfinal[1,:,:] = Bexp"
   ]
  },
  {
   "cell_type": "markdown",
   "id": "f7741f57",
   "metadata": {},
   "source": [
    "Nou doen ons die uitbreiding vir $A$, en kopieer dit basies 3 keer:"
   ]
  },
  {
   "cell_type": "code",
   "execution_count": null,
   "id": "7b6682aa",
   "metadata": {
    "lines_to_next_cell": 1
   },
   "outputs": [],
   "source": [
    "Aexp = np.zeros((2,3,2))\n",
    "Aexp[:,0,:] = A[:,0,:]\n",
    "Aexp[:,1,:] = A[:,0,:]\n",
    "Aexp[:,2,:] = A[:,0,:]\n",
    "print ('A+B:',A+B)"
   ]
  },
  {
   "cell_type": "markdown",
   "id": "5b2596ee",
   "metadata": {},
   "source": [
    "Nie so moeilik nie, alhoewel dit 'n bietjie kopseer kan wees om dinge in verskeie dimensies by te hou.\n",
    "\n",
    "**Wenk:** Dit behoort normaalweg duidelik te wees wat die afmetings van jou eindresultaat behoort te wees. Deur daarvandaan te begin, maak dit gewoonlik makliker om uit te vind hoe die res opgestel moet word nie. Jy sal waarskynlik asse in die regte posisies moet byvoeg om dinge reg te laat uitwerk."
   ]
  },
  {
   "cell_type": "markdown",
   "id": "95319577",
   "metadata": {},
   "source": [
    "### Huiswerk:\n",
    "\n",
    "As 'n praktiese voorbeeld waar uitsaai nuttig is, sal jy nou 'n funksie skryf wat elk van 'n aantal waarnemings aan een van $k$ klasse toeken. Aanvaar dat elke klas deur 'n enkele kenmerkvektor voorgestel word - byvoorbeeld die steekproefgemiddelde van sommige punte uit die klas. Die eenvoudige toekenningsreël wat jy sal gebruik, is om toekomstige waarnemings toe te ken aan die klas wie se kenmerkvektor die naaste is aan die waarneming.\n",
    "\n",
    "Die eenvoudige manier om dit vir 'n stel waarnemings te doen, is om 'n lus te skryf, en vir elke punt die afstand na elk van die $k$-klaskenmerke (met nog 'n lus) te bereken. Probeer dit eers só self doen, veral as jy nuut is by Python.\n",
    "\n",
    "Die vinniger manier om dit te doen is om uitsaai te gebruik, gevolg deur die `np.norm` funksie (om die afstande te bereken), en `np.argmin` (om die naaste klas kenmerke te bereken).\n",
    "\n",
    "Hieronder word skeletkode gegee - verskaf die ontbrekende kode. Let daarop dat np.newaxis nuttig kan wees om die nodige uitsaai te vergemaklik.\n",
    "\n",
    "Terloops, hierdie kode vorm die kern van $k$-gemiddeldes trosvorming."
   ]
  },
  {
   "cell_type": "code",
   "execution_count": null,
   "id": "eee28879",
   "metadata": {},
   "outputs": [],
   "source": [
    "def nearest_feature(data, means):\n",
    "    '''\n",
    "    Classify data values to the class represented by the nearest prototype \n",
    "    feature vector.\n",
    "    \n",
    "    Parameters\n",
    "    ----------\n",
    "    data : (d,N) ndarray \n",
    "         N feature vectors each of dimension d. Each feature vector is assigned\n",
    "         to one of k classes.\n",
    "    means : (d,k) ndarray\n",
    "         k prototype feature vectors representing the k different classes.\n",
    "         \n",
    "    Return\n",
    "    ------\n",
    "    labels : (N,) int array\n",
    "           The class labels for each feature. \n",
    "           \n",
    "    Note \n",
    "    ----\n",
    "    This function uses broadcasting to efficiently do the assignments.\n",
    "    \n",
    "    Example\n",
    "    -------\n",
    "    >>>data = np.array([[0.5,1.5,2.1,0.1],[0.5,2.9,3.9,-0.1]])\n",
    "    >>>means = np.array([[0,1,2],[0,3,4]])\n",
    "    >>>labels = nearest_feature(data,means)\n",
    "    >>>print(labels)\n",
    "    Out:\n",
    "       [0 1 2 0]\n",
    "    '''\n",
    "    data = data.T   \n",
    "    # Insert one line of code here\n",
    "    \n",
    "\n",
    "    err = np.linalg.norm(dist,axis=1)\n",
    "    labels = np.argmin(err,axis=1)\n",
    "    return labels\n",
    "  \n",
    "import numpy as np\n",
    "data = np.array([[0.5,1.5,2.1,0.1],[0.5,2.9,3.9,-0.1]])\n",
    "means = np.array([[0,1,2],[0,3,4]])\n",
    "labels = nearest_feature(data,means)\n",
    "print(labels)"
   ]
  },
  {
   "cell_type": "markdown",
   "id": "a731f000",
   "metadata": {},
   "source": [
    "### Bedryfstelsel\n",
    "Jy het ook toegang tot jou bedryfstelsel-opdragte, byvoorbeeld:"
   ]
  },
  {
   "cell_type": "code",
   "execution_count": null,
   "id": "2a3eb9a7",
   "metadata": {},
   "outputs": [],
   "source": [
    "pwd"
   ]
  },
  {
   "cell_type": "code",
   "execution_count": null,
   "id": "1c6fed59",
   "metadata": {},
   "outputs": [],
   "source": [
    "ls"
   ]
  },
  {
   "cell_type": "markdown",
   "id": "0cb26f8b",
   "metadata": {},
   "source": [
    "### Gebruik funksies en widgets\n",
    "\n",
    "Ons gaan nou na 'n nie-triviale voorbeeld kyk wat die gebruik van funksies asook wiggies illustreer. Terselfdertyd is dit 'n goeie demonstrasie van die verskil tussen puntsgewyse en eenvormige konvergensie.\n",
    "\n",
    "Die sinusreeks van die periodieke funksie ($f(x)=f(x+2 \\pi)$),\n",
    "\n",
    "$$f(x) = \\left\\{ \\begin{array}{rc} -0.5 & -\\pi<x<0\\\\ 0.5 & 0<x<\\pi \\end{array} \\right., $$\n",
    "word gegee deur\n",
    "\n",
    "$$\n",
    "f(x) = \\sum_{n=1}^{\\infty} b_n \\sin(x),$$\n",
    "met\n",
    "$$b_n = \\frac{1}{n\\pi} (1-\\cos(n\\pi)).$$"
   ]
  },
  {
   "cell_type": "markdown",
   "id": "3dced426",
   "metadata": {},
   "source": [
    "Eerstens moet ons die nodige wiggiebiblioteek invoer.\n",
    "\n",
    "(Ek hou daarvan om alles in te voer wat ek aan die begin gaan benodig, maar dit is duidelik nie nodig nie. Dit maak dit vir my makliker om te sê watter biblioteke ek gebruik, en makliker om op te dateer as sommige van die biblioteke of funksies binne die biblioteke, geskuif is.)"
   ]
  },
  {
   "cell_type": "code",
   "execution_count": null,
   "id": "9ac220de",
   "metadata": {},
   "outputs": [],
   "source": [
    "from ipywidgets import interact"
   ]
  },
  {
   "cell_type": "markdown",
   "id": "b20e3e13",
   "metadata": {},
   "source": [
    "Eerstens definieer ons die funksie wat die som van die eerste $k$ terme van die sinusreeks bereken.\n",
    "\n",
    "Die funksie bereken die som van die eerste $k$ terme by punte = 256 waardes eweredig versprei oor die interval $(-1,1)$, met behulp van die ingeboude numpy funksie, `linspace'.\n",
    "\n",
    "`reeks` is 'n ingeboude Python-funksie en gee 'n heelgetalskikking tussen die gespesifiseerde limiete terug."
   ]
  },
  {
   "cell_type": "code",
   "execution_count": null,
   "id": "244a63c1",
   "metadata": {},
   "outputs": [],
   "source": [
    "def jump(k  = 1):\n",
    "   \"\"\"The function calculates and plots the first k terms of the sine series\n",
    "      of a step function, jump size one.\n",
    "      \n",
    "      Parameters\n",
    "      ----------\n",
    "      k:   int\n",
    "           the number of terms included in the Fourier series\n",
    "           \n",
    "      Return\n",
    "      ------\n",
    "      A plot of the first k terms of the sime series.\n",
    "   \"\"\"\n",
    "   pi = np.pi\n",
    "   points = 256  # The number of spatial points\n",
    "\n",
    "   x = np.linspace(-pi,pi,points,endpoint=False)\n",
    "\n",
    "   f = 0\n",
    "   for n in range(1,k+1):\n",
    "      f = f+np.sin(n*x)*(1.- (-1)**n)/(pi*n)\n",
    "   plt.plot(x,f)\n",
    "   plt.title('Fourier approximation, using '+str(k)+' terms',size=15)\n",
    "   plt.xlabel('x',size=25)     \n",
    "   plt.show()"
   ]
  },
  {
   "cell_type": "markdown",
   "id": "642146de",
   "metadata": {},
   "source": [
    "'interact' doen presies dit: Dit laat mens toe om interaktief te werk met die gegewe funksie, 'jump' in hierdie geval, vir parameterwaardes in die gespesifiseerde reeks. Sodra jy die parameterwaarde ingestel het deur die balk te skuif, word die funksie 'jump' uitgevoer. Let dus daarop dat die plot deel is van 'jump'. Indien nie, sal niks geplot word nie en jy sal niks sien nie!\n",
    "\n",
    "Kan nie eenvoudiger wees nie!"
   ]
  },
  {
   "cell_type": "code",
   "execution_count": null,
   "id": "3ed3ba23",
   "metadata": {},
   "outputs": [],
   "source": [
    "w = interact (jump, k =(1, 64))"
   ]
  },
  {
   "cell_type": "markdown",
   "id": "f55c0a7e",
   "metadata": {},
   "source": [
    "### Klasse\n",
    "\n",
    "Klasse het 'n besonder eenvoudige sintaks in Python."
   ]
  },
  {
   "cell_type": "code",
   "execution_count": null,
   "id": "4da94f79",
   "metadata": {},
   "outputs": [],
   "source": [
    "'''Module containing a DensityFunc abstract class, with common probability densities\n",
    "\n",
    "@since: Jan 10, 2013\n",
    "\n",
    "@author: kroon, herbst\n",
    "'''\n",
    "\n",
    "from __future__ import division\n",
    "\n",
    "import numpy as np\n",
    "\n",
    "\n",
    "class Gaussian(object):\n",
    "    '''\n",
    "    Class for representing a multi-dimensional Gaussian distribution of dimension d.\n",
    "    The class can instanciated by providing the means and covariance.\n",
    "    If the mean and covariance are not given then a Gaussian model can be fitted\n",
    "    to the data. \n",
    "    \n",
    "    Note: The covariance matrix has to be  symmetric, positive definite and \n",
    "          non-singular.\n",
    "    \n",
    "    Parameters\n",
    "    ----------\n",
    "    \n",
    "    mean : (d,) ndarray\n",
    "       mean of the distribution\n",
    "    cov  : (d,d) ndarray\n",
    "       Covariance matrix. \n",
    "    \n",
    "    Methods\n",
    "    -------\n",
    "    fit\n",
    "       Fit a Gaussian model to the data.\n",
    "    \n",
    "    f \n",
    "       Returns the value of the density function\n",
    "    logf\n",
    "       Returns the log of the density function\n",
    "    likelihood\n",
    "       Returns the likelihood of the data\n",
    "    loglik\n",
    "       Reurns the log-likelihood of the data\n",
    "    sample\n",
    "       Returns samples drawn from the normal distribution with the given\n",
    "       mean and covariance\n",
    "    \n",
    "    \n",
    "    Example\n",
    "    -------\n",
    "    >>> import gaussian as gauss\n",
    "    >>> # Scalar example\n",
    "    >>>mean = np.array([10.])\n",
    "    >>>cov  = np.array([[1.]])\n",
    "    >>>ga   = gauss.Gaussian(mean,cov)\n",
    "    >>>print (ga.f([10.]))\n",
    "       0.398942280401        \n",
    "    >>>x = np.array([[10.],[10.],[10.]])\n",
    "    >>>print (ga.likelihood(x))\n",
    "       0.0634936359342\n",
    "    >>># Multivariate example\n",
    "    >>>mean = np.array([10.0, 10.0])\n",
    "    >>>cov  = np.array([[  1.,   0.],[  0.,  10.]])\n",
    "    >>>ga   = gauss.Gaussian(mean,cov)\n",
    "    >>>print (ga.f(np.array([10.,10.])))\n",
    "       0.050329212104487035\n",
    "    >>>x = np.array([[10.,10.],[10.,10.],[10.,10.],[10.,10.]])\n",
    "    >>>print (ga.likelihood(x))\n",
    "       6.4162389091777101e-06\n",
    "    '''\n",
    "    def __init__(self, mean=None, cov=None):\n",
    "        \n",
    "        if mean is not None and cov is not None:\n",
    "            mean = np.array(mean); cov = np.array(cov)\n",
    "            d,n = cov.shape\n",
    "        \n",
    "            self._dim = d\n",
    "            self._mean = mean.flatten()\n",
    "            self._cov = cov\n",
    "            self._covdet = np.linalg.det(2.0*np.pi*cov)\n",
    "        \n",
    "            if self._covdet < 10e-12:\n",
    "                \n",
    "                raise ValueError('The covariance matrix is singular.')\n",
    "    def fit(self,data):\n",
    "        '''\n",
    "        Fit data to the Gaussian model and return the sample mean and covariance\n",
    "        of the data.\n",
    "        \n",
    "        Parameters\n",
    "        ----------\n",
    "        data: (n,d) ndarray\n",
    "              n samples, each of dimension d\n",
    "              \n",
    "        '''\n",
    "        self._mean = np.mean(data,axis=0)\n",
    "        self._cov  = np.cov(data.T)\n",
    "        \n",
    "        \n",
    "            \n",
    "    def f(self, x):\n",
    "        '''\n",
    "        Calculate the value of the normal distributions at x\n",
    "        \n",
    "        Parameters\n",
    "        ----------\n",
    "        x : (d,) ndarray\n",
    "           Evaluate a single d-dimensional samples x\n",
    "           \n",
    "        Returns\n",
    "        -------\n",
    "        val : scalar\n",
    "           The value of the normal distribution at x.\n",
    "        \n",
    "        '''\n",
    "        \n",
    "        return np.exp(self.logf(x))\n",
    "    \n",
    "    def logf(self, x):\n",
    "        '''\n",
    "        Calculate  the log-density at x\n",
    "        \n",
    "        Parameters\n",
    "        ----------\n",
    "        x : (d,) ndarray\n",
    "           Evaluate the log-normal distribution at a single d-dimensional \n",
    "           sample x\n",
    "           \n",
    "        Returns\n",
    "        -------\n",
    "        val : scalar\n",
    "           The value of the log of the normal distribution at x.\n",
    "        '''\n",
    "        #x = x[:,np.newaxis]\n",
    "        trans = x - self._mean\n",
    "        mal   = -trans.dot(np.linalg.solve(self._cov,trans))/2.\n",
    "        return -0.5*np.log(self._covdet) + mal\n",
    "\n",
    "\n",
    "    def likelihood(self, x):\n",
    "        '''\n",
    "        Calculates the likelihood of the data set x for the normal\n",
    "        distribution.\n",
    "        \n",
    "        Parameters\n",
    "        ----------\n",
    "        x :  (n,d) ndarray\n",
    "           Calculate the likelihood of n, d-dimensional samples\n",
    "           \n",
    "        Returns\n",
    "        -------\n",
    "        val : scalar\n",
    "           The likelihood value   \n",
    "        '''\n",
    "        return np.exp(self.loglik(x))\n",
    "\n",
    "    def loglik(self, x):\n",
    "        '''\n",
    "        Calculates  the log-likelihood of the data set x for the normal \n",
    "        distribution.\n",
    "        \n",
    "        Parameters\n",
    "        ----------\n",
    "        x :  (d,n) ndarray\n",
    "           Calculate the likelihood of n, d-dimensional samples\n",
    "           \n",
    "        Returns\n",
    "        -------\n",
    "        val : scalar\n",
    "           The log-likelihood value\n",
    "        '''\n",
    "        return np.sum(np.apply_along_axis(self.logf, 1, x))\n",
    "\n",
    "\n",
    "    def sample(self, n=1):\n",
    "        '''\n",
    "        Calculates n independent points sampled from the normal distribution\n",
    "        \n",
    "        Parameters\n",
    "        ----------\n",
    "        n : int\n",
    "           The number of samples\n",
    "           \n",
    "        Returns\n",
    "        -------\n",
    "        samples : (n,d) ndarray\n",
    "           n, d-dimensional samples\n",
    "        \n",
    "        '''\n",
    "\n",
    "        return np.random.multivariate_normal(self._mean, self._cov, n)\n",
    "        \n",
    "    def get_params(self):\n",
    "        '''\n",
    "        Returns the parameters of the Gaussian\n",
    "        \n",
    "        Returns\n",
    "        -------\n",
    "        mean: (d,) ndarray\n",
    "              The mean \n",
    "        cov: (d,d) ndarray\n",
    "             The covariance\n",
    "        '''\n",
    "        \n",
    "        return self._mean, self._cov\n",
    "    \n",
    "\n"
   ]
  },
  {
   "cell_type": "markdown",
   "id": "50aad2b6",
   "metadata": {},
   "source": [
    "### Voorbeeld"
   ]
  },
  {
   "cell_type": "code",
   "execution_count": null,
   "id": "bc6af9ca",
   "metadata": {
    "lines_to_next_cell": 2
   },
   "outputs": [],
   "source": [
    "data = np.array([[0, 2], [1, 1], [2, 0]])\n",
    "ga = Gaussian()\n",
    "ga.fit(data)\n",
    "mean, cov = ga.get_params()\n",
    "print (mean)\n",
    "print (cov)"
   ]
  },
  {
   "cell_type": "markdown",
   "id": "dd0377bf",
   "metadata": {},
   "source": [
    "### Voorbeeld"
   ]
  },
  {
   "cell_type": "code",
   "execution_count": null,
   "id": "41163024",
   "metadata": {},
   "outputs": [],
   "source": [
    "samples = ga.sample(10000)\n",
    "ga2 = Gaussian()\n",
    "ga2.fit(samples)\n",
    "means, cov = ga2.get_params()\n",
    "print (mean)\n",
    "print (cov)"
   ]
  },
  {
   "cell_type": "markdown",
   "id": "8e384e34",
   "metadata": {},
   "source": [
    "### Een-veranderlike voorbeeld: "
   ]
  },
  {
   "cell_type": "code",
   "execution_count": null,
   "id": "48fca7a5",
   "metadata": {},
   "outputs": [],
   "source": [
    "mean = np.array([10.])\n",
    "cov  = np.array([[1.]])\n",
    "ga   = Gaussian(mean,cov)\n",
    "\n",
    "print ('f(10) =', ga.f([10.]))\n",
    "        \n",
    "x = np.array([[10.],[10.],[10.]])\n",
    "print ('likelihood = ',ga.likelihood(x))"
   ]
  },
  {
   "cell_type": "markdown",
   "id": "fb934afc",
   "metadata": {},
   "source": [
    "### Meerveranderlike voorbeeld:"
   ]
  },
  {
   "cell_type": "code",
   "execution_count": null,
   "id": "cd0eb7d0",
   "metadata": {},
   "outputs": [],
   "source": [
    "mean = np.array([10.0, 10.0])\n",
    "cov  = np.array([[  1.,   0.],[  0.,  10.]])\n",
    "ga   = Gaussian(mean,cov)\n",
    "print ('f([10,10])=',ga.f(np.array([10.,10.])))\n",
    "        \n",
    "x = np.array([[10.,10.],[10.,10.],[10.,10.],[10.,10.]])\n",
    "print ('likelihood = ',ga.likelihood(x))\n",
    "        "
   ]
  },
  {
   "cell_type": "markdown",
   "id": "17b40146",
   "metadata": {},
   "source": [
    "Ons gebruik nou die steekproefmetode om ons te voorsien van monsters uit 'n meerveranderlike normaalverdeling. Hierdie monsters word visueel vertoon deur gebruik te maak van die 2d-histogrammetode wat deur `numpy` verskaf word. Let daarop dat die halfmiljoen monsters redelik vinnig verskaf word."
   ]
  },
  {
   "cell_type": "code",
   "execution_count": null,
   "id": "31c40c54",
   "metadata": {},
   "outputs": [],
   "source": [
    "g1 = Gaussian([5,1],[[10,0],[0,1]])\n",
    "s1 = g1.sample(500000).T\n",
    "xmin = np.min(s1[0])\n",
    "xmax = np.max(s1[0])\n",
    "ymin = np.min(s1[1])\n",
    "ymax = np.max(s1[1])\n",
    "xbin = 500\n",
    "ybin = np.int(xbin*(ymax-ymin)/(xmax-xmin))\n",
    "H,xedge,yedge = np.histogram2d(s1[0], s1[1], bins=[xbin,ybin], range = [[xmin,xmax],[ymin,ymax]],normed=False)\n",
    "print (H.shape)\n",
    "plt.imshow(H.T,cmap='hot', extent = [xmin,xmax,ymin,ymax], interpolation='nearest')\n",
    "plt.show()"
   ]
  },
  {
   "cell_type": "code",
   "execution_count": null,
   "id": "59cda6ed",
   "metadata": {},
   "outputs": [],
   "source": []
  }
 ],
 "metadata": {
  "jupytext": {
   "encoding": "# -*- coding: utf-8 -*-"
  },
  "kernelspec": {
   "display_name": "Python 3",
   "language": "python",
   "name": "python3"
  }
 },
 "nbformat": 4,
 "nbformat_minor": 5
}
